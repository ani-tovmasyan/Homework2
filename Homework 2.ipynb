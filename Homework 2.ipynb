{
 "cells": [
  {
   "cell_type": "code",
   "execution_count": 2,
   "metadata": {},
   "outputs": [
    {
     "data": {
      "text/plain": [
       "75"
      ]
     },
     "execution_count": 2,
     "metadata": {},
     "output_type": "execute_result"
    }
   ],
   "source": [
    "#Problem 1\n",
    "def my_max(*args):\n",
    "    return max([i for i in args])\n",
    "my_max(9,5,8,2,3,75)"
   ]
  },
  {
   "cell_type": "code",
   "execution_count": 3,
   "metadata": {},
   "outputs": [
    {
     "data": {
      "text/plain": [
       "[8, 9, 7]"
      ]
     },
     "execution_count": 3,
     "metadata": {},
     "output_type": "execute_result"
    }
   ],
   "source": [
    "#Problem 2\n",
    "def unique(l):\n",
    "    s={i for i in l}\n",
    "    return [i for i in s]\n",
    "unique({7,8,8,9,7})"
   ]
  },
  {
   "cell_type": "code",
   "execution_count": 4,
   "metadata": {},
   "outputs": [
    {
     "data": {
      "text/plain": [
       "21"
      ]
     },
     "execution_count": 4,
     "metadata": {},
     "output_type": "execute_result"
    }
   ],
   "source": [
    "#Problem 3\n",
    "def my_fib(n):\n",
    "    if n==0 or n==1: return 1\n",
    "    l=[1,1,0]\n",
    "    for i in range (n-2):\n",
    "        l[2]=l[1]+l[0]\n",
    "        l[0]=l[1]\n",
    "        l[1]=l[2]\n",
    "    return l[2]\n",
    "my_fib(8)\n",
    "        "
   ]
  },
  {
   "cell_type": "code",
   "execution_count": 16,
   "metadata": {},
   "outputs": [
    {
     "name": "stdout",
     "output_type": "stream",
     "text": [
      "Hey! \n",
      "\n",
      "I'm from Mars. Can I land on your planet?\n"
     ]
    }
   ],
   "source": [
    "#Problem 4\n",
    "import pandas as pd\n",
    "\n",
    "class Person:\n",
    "    name=str()\n",
    "    last_name=str()\n",
    "    age=int()\n",
    "    gender=str()\n",
    "    student=bool()\n",
    "    __password=str()\n",
    "    \n",
    "    def Greeting(self,second_person):\n",
    "        print(f\"Wellcome dear {second_person.name}.\")\n",
    "        \n",
    "    def Goodbye(self):\n",
    "        print(\"Bye everyone!\")\n",
    "        \n",
    "    def Favourite_num(self, num):\n",
    "        return f\"My favourite number is {num}\"\n",
    "    \n",
    "    def Read_file(self, filename):\n",
    "        file=open(f'{filename}.txt','r')\n",
    "        for line in file:\n",
    "            print(line)\n",
    "       \n",
    "    def setPassword(self,password):\n",
    "        if len(password)<8:\n",
    "            print(\"Invalid password.\")\n",
    "            return\n",
    "        self.__password=password\n",
    "    def getPassword(self):\n",
    "        return self.__password\n"
   ]
  },
  {
   "cell_type": "code",
   "execution_count": 13,
   "metadata": {},
   "outputs": [
    {
     "name": "stdout",
     "output_type": "stream",
     "text": [
      "8\n",
      "-2\n",
      "15\n",
      "0.6\n"
     ]
    }
   ],
   "source": [
    "#Problem 5\n",
    "class Calculation:\n",
    "    def __init__(self, x,y):\n",
    "        self.x=x\n",
    "        self.y=y\n",
    "    def addition(self):\n",
    "        print(self.x+self.y)\n",
    "    def substruction(self):\n",
    "        print(self.x-self.y)\n",
    "class MyCalculation(Calculation):\n",
    "    def __init__(self, x,y):\n",
    "        super().__init__(x,y)\n",
    "    def multiplication(self):\n",
    "        print(self.x*self.y)\n",
    "    def division(self):\n",
    "        print(self.x/self.y)\n",
    "mc=MyCalculation(3,5)\n",
    "mc.addition()\n",
    "mc.substruction()\n",
    "mc.multiplication()\n",
    "mc.division()"
   ]
  }
 ],
 "metadata": {
  "kernelspec": {
   "display_name": "Python 3",
   "language": "python",
   "name": "python3"
  },
  "language_info": {
   "codemirror_mode": {
    "name": "ipython",
    "version": 3
   },
   "file_extension": ".py",
   "mimetype": "text/x-python",
   "name": "python",
   "nbconvert_exporter": "python",
   "pygments_lexer": "ipython3",
   "version": "3.7.6"
  }
 },
 "nbformat": 4,
 "nbformat_minor": 4
}
